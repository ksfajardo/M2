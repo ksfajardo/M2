{
  "nbformat": 4,
  "nbformat_minor": 0,
  "metadata": {
    "colab": {
      "provenance": []
    },
    "kernelspec": {
      "name": "python3",
      "display_name": "Python 3"
    },
    "language_info": {
      "name": "python"
    }
  },
  "cells": [
    {
      "cell_type": "code",
      "source": [
        "from math import e, factorial"
      ],
      "metadata": {
        "id": "hGhqt4dFyeI1"
      },
      "execution_count": 1,
      "outputs": []
    },
    {
      "cell_type": "code",
      "execution_count": 2,
      "metadata": {
        "id": "7X81gm40ySMC"
      },
      "outputs": [],
      "source": [
        "def funcion_binomial(k,n,p): #k casos de exitos esperados, n numero de eventos, p probabilidad de exito\n",
        "    num_eventos = factorial(n) \n",
        "    num_exitos = factorial (k) * factorial(n-k) \n",
        "    exitos_fracaso=pow(p,k) * pow(1-p,(n-k)) \n",
        "\n",
        "    binomial = (num_eventos / num_exitos) * exitos_fracaso \n",
        "\n",
        "    return binomial"
      ]
    },
    {
      "cell_type": "code",
      "source": [
        "def probabilidad_poisson(lamba_np,x):#lambda del tiempo especifico, numero de exitos esperados\n",
        "    probabilidad = (pow(e,-lamba_np) * pow(lamba_np,x))/factorial(x)\n",
        "    return probabilidad"
      ],
      "metadata": {
        "id": "ZtcdBXnhyZZe"
      },
      "execution_count": 3,
      "outputs": []
    },
    {
      "cell_type": "code",
      "source": [
        "def probabilidad_hipergeometrica(N,X,n,x): # N tamaño de la poblacion, X elementos que pertenecen a la categoria, n tamaño de la muestra, x casos de exito de la categoria esperados en la muestra\n",
        "    Xx = factorial(X)/(factorial(x)*factorial(X-x))\n",
        "    NX_nx= factorial(N-X)/(factorial(n-x)*factorial((N-X)-(n-x)))\n",
        "    Nn = factorial(N)/(factorial(n)*factorial(N-n))\n",
        "    hipergeometrica = (Xx * NX_nx)/Nn\n",
        "\n",
        "    return hipergeometrica"
      ],
      "metadata": {
        "id": "wkO1Jx_Tyhs6"
      },
      "execution_count": 4,
      "outputs": []
    },
    {
      "cell_type": "code",
      "source": [
        "funcion_binomial(5,10,(1/3))"
      ],
      "metadata": {
        "colab": {
          "base_uri": "https://localhost:8080/"
        },
        "id": "-2-ke2R10hiP",
        "outputId": "3db5366a-4fd9-4434-ce00-a4ac7aa13f20"
      },
      "execution_count": 5,
      "outputs": [
        {
          "output_type": "execute_result",
          "data": {
            "text/plain": [
              "0.13656454808718185"
            ]
          },
          "metadata": {},
          "execution_count": 5
        }
      ]
    },
    {
      "cell_type": "code",
      "source": [
        "print(((10/30)*(9/29))+((20/30)*(19/29)))"
      ],
      "metadata": {
        "colab": {
          "base_uri": "https://localhost:8080/"
        },
        "id": "ujsFd2Vk1faK",
        "outputId": "2f271c77-a0a4-4378-f823-9c383daca839"
      },
      "execution_count": 6,
      "outputs": [
        {
          "output_type": "stream",
          "name": "stdout",
          "text": [
            "0.5402298850574713\n"
          ]
        }
      ]
    },
    {
      "cell_type": "code",
      "source": [
        "print((26/52)*(25/51))"
      ],
      "metadata": {
        "colab": {
          "base_uri": "https://localhost:8080/"
        },
        "id": "lmZ4Ou403OkP",
        "outputId": "dea5d242-6434-463f-f57a-78b1fc533dc3"
      },
      "execution_count": 7,
      "outputs": [
        {
          "output_type": "stream",
          "name": "stdout",
          "text": [
            "0.24509803921568626\n"
          ]
        }
      ]
    },
    {
      "cell_type": "code",
      "source": [
        "1-probabilidad_poisson(3,0)"
      ],
      "metadata": {
        "colab": {
          "base_uri": "https://localhost:8080/"
        },
        "id": "bgcHUCb848jW",
        "outputId": "9bd6a0f6-9f46-4060-a584-7dfb20083b28"
      },
      "execution_count": 9,
      "outputs": [
        {
          "output_type": "execute_result",
          "data": {
            "text/plain": [
              "0.950212931632136"
            ]
          },
          "metadata": {},
          "execution_count": 9
        }
      ]
    },
    {
      "cell_type": "code",
      "source": [
        "probabilidad_hipergeometrica(30,3,5,1)"
      ],
      "metadata": {
        "colab": {
          "base_uri": "https://localhost:8080/"
        },
        "id": "Ov0X8Dmd6KR6",
        "outputId": "ad720d46-2b18-4662-b3bf-3ee8f81d8c22"
      },
      "execution_count": 10,
      "outputs": [
        {
          "output_type": "execute_result",
          "data": {
            "text/plain": [
              "0.3694581280788177"
            ]
          },
          "metadata": {},
          "execution_count": 10
        }
      ]
    },
    {
      "cell_type": "code",
      "source": [
        "print(1/6)"
      ],
      "metadata": {
        "colab": {
          "base_uri": "https://localhost:8080/"
        },
        "id": "tm1dTA7m9RK4",
        "outputId": "53951d2a-9168-4adc-f2aa-230987b0b9db"
      },
      "execution_count": 11,
      "outputs": [
        {
          "output_type": "stream",
          "name": "stdout",
          "text": [
            "0.16666666666666666\n"
          ]
        }
      ]
    }
  ]
}