{
 "cells": [
  {
   "cell_type": "code",
   "execution_count": 1,
   "metadata": {},
   "outputs": [
    {
     "name": "stdout",
     "output_type": "stream",
     "text": [
      "el espacio muestral es de 1024\n"
     ]
    }
   ],
   "source": [
    "#1\n",
    "print('el espacio muestral es de',2**10)"
   ]
  },
  {
   "cell_type": "code",
   "execution_count": 2,
   "metadata": {},
   "outputs": [
    {
     "data": {
      "text/plain": [
       "120.0"
      ]
     },
     "execution_count": 2,
     "metadata": {},
     "output_type": "execute_result"
    }
   ],
   "source": [
    "import math as m\n",
    "c=(m.factorial(10))/((m.factorial(3))*(m.factorial(7)))\n",
    "c"
   ]
  },
  {
   "cell_type": "code",
   "execution_count": 26,
   "metadata": {},
   "outputs": [
    {
     "data": {
      "text/html": [
       "<div>\n",
       "<style scoped>\n",
       "    .dataframe tbody tr th:only-of-type {\n",
       "        vertical-align: middle;\n",
       "    }\n",
       "\n",
       "    .dataframe tbody tr th {\n",
       "        vertical-align: top;\n",
       "    }\n",
       "\n",
       "    .dataframe thead th {\n",
       "        text-align: right;\n",
       "    }\n",
       "</style>\n",
       "<table border=\"1\" class=\"dataframe\">\n",
       "  <thead>\n",
       "    <tr style=\"text-align: right;\">\n",
       "      <th></th>\n",
       "      <th>Si</th>\n",
       "      <th>No</th>\n",
       "      <th>Total</th>\n",
       "    </tr>\n",
       "  </thead>\n",
       "  <tbody>\n",
       "    <tr>\n",
       "      <th>Norte</th>\n",
       "      <td>0.136280</td>\n",
       "      <td>0.047882</td>\n",
       "      <td>0.184162</td>\n",
       "    </tr>\n",
       "    <tr>\n",
       "      <th>Noreste</th>\n",
       "      <td>0.149171</td>\n",
       "      <td>0.049724</td>\n",
       "      <td>0.198895</td>\n",
       "    </tr>\n",
       "    <tr>\n",
       "      <th>Sur</th>\n",
       "      <td>0.272560</td>\n",
       "      <td>0.068140</td>\n",
       "      <td>0.340700</td>\n",
       "    </tr>\n",
       "    <tr>\n",
       "      <th>Centro</th>\n",
       "      <td>0.232044</td>\n",
       "      <td>0.044199</td>\n",
       "      <td>0.276243</td>\n",
       "    </tr>\n",
       "    <tr>\n",
       "      <th>Total</th>\n",
       "      <td>0.790055</td>\n",
       "      <td>0.209945</td>\n",
       "      <td>1.000000</td>\n",
       "    </tr>\n",
       "  </tbody>\n",
       "</table>\n",
       "</div>"
      ],
      "text/plain": [
       "               Si        No     Total\n",
       "Norte    0.136280  0.047882  0.184162\n",
       "Noreste  0.149171  0.049724  0.198895\n",
       "Sur      0.272560  0.068140  0.340700\n",
       "Centro   0.232044  0.044199  0.276243\n",
       "Total    0.790055  0.209945  1.000000"
      ]
     },
     "execution_count": 26,
     "metadata": {},
     "output_type": "execute_result"
    }
   ],
   "source": [
    "import pandas as pd\n",
    "df= pd.DataFrame({'Si':[148,162,296,252],\n",
    "'No':[52,54,74,48]}, index=['Norte','Noreste','Sur','Centro'])\n",
    "df=df/(sum(df.sum()))\n",
    "df.loc[5]=sum(df.Si), sum(df.No)\n",
    "df.rename(index={5:'Total'},inplace=True)\n",
    "df['Total']=df['Si']+df['No']\n",
    "df\n",
    "\n",
    "\n"
   ]
  },
  {
   "cell_type": "code",
   "execution_count": 37,
   "metadata": {},
   "outputs": [],
   "source": [
    "def baraja(t):\n",
    "    if t=='negra'or t=='roja':\n",
    "        return ('La probabilidad de obtener una carta', t,' es', 26/52)\n",
    "    elif t=='trebol' or t=='pica' or t=='diamante' or t=='corazon':\n",
    "        return ('La probabilidad de obtener una carta', t,' es', 13/52)\n",
    "    else:\n",
    "        return ('Debe ingresar roja, negra, diamante, pica, corazon o trebol')\n",
    "        "
   ]
  },
  {
   "cell_type": "code",
   "execution_count": 40,
   "metadata": {},
   "outputs": [
    {
     "data": {
      "text/plain": [
       "('La probabilidad de obtener una carta', 'trebol', ' es', 0.25)"
      ]
     },
     "execution_count": 40,
     "metadata": {},
     "output_type": "execute_result"
    }
   ],
   "source": [
    "n='trebol'\n",
    "baraja(n)"
   ]
  }
 ],
 "metadata": {
  "kernelspec": {
   "display_name": "Python 3",
   "language": "python",
   "name": "python3"
  },
  "language_info": {
   "codemirror_mode": {
    "name": "ipython",
    "version": 3
   },
   "file_extension": ".py",
   "mimetype": "text/x-python",
   "name": "python",
   "nbconvert_exporter": "python",
   "pygments_lexer": "ipython3",
   "version": "3.11.1"
  },
  "orig_nbformat": 4,
  "vscode": {
   "interpreter": {
    "hash": "eb09ce852db6f361428bb0490ce3c9ce0345b998f8fd8cc3e5547bd106f59481"
   }
  }
 },
 "nbformat": 4,
 "nbformat_minor": 2
}
